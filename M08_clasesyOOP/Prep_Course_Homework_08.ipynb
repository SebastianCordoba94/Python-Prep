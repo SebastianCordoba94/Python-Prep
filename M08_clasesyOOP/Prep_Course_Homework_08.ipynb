{
 "cells": [
  {
   "attachments": {},
   "cell_type": "markdown",
   "metadata": {},
   "source": [
    "## Clases y Programación Orientada a Objetos"
   ]
  },
  {
   "attachments": {},
   "cell_type": "markdown",
   "metadata": {},
   "source": [
    "1) Crear la clase vehículo que contenga los atributos:<br>\n",
    "Color<br>\n",
    "Si es moto, auto, camioneta ó camión<br>\n",
    "Cilindrada del motor"
   ]
  },
  {
   "cell_type": "code",
   "execution_count": 1,
   "metadata": {},
   "outputs": [],
   "source": [
    "class Vehiculo:\n",
    "    def __init__(self,color,tipo,cilindraje):\n",
    "        self.color = color\n",
    "        self.tipo = tipo\n",
    "        self.cilindraje = cilindraje"
   ]
  },
  {
   "attachments": {},
   "cell_type": "markdown",
   "metadata": {},
   "source": [
    "2) A la clase Vehiculo creada en el punto 1, agregar los siguientes métodos:<br>\n",
    "Acelerar<br>\n",
    "Frenar<br>\n",
    "Doblar<br>"
   ]
  },
  {
   "cell_type": "code",
   "execution_count": 2,
   "metadata": {},
   "outputs": [],
   "source": [
    "class Vehiculo:\n",
    "    def __init__(self,color,tipo,cilindraje):\n",
    "        self.color = color\n",
    "        self.tipo = tipo\n",
    "        self.cilindraje = cilindraje\n",
    "        self.velocidad = 0\n",
    "        self.direccion = 0\n",
    "\n",
    "    def acelerar(self,vel):\n",
    "        self.velocidad += vel\n",
    "\n",
    "    def frenar(self,vel):        \n",
    "        self.velocidad -= vel\n",
    "\n",
    "    def doblar(self,giro):\n",
    "        self.direccion += giro"
   ]
  },
  {
   "attachments": {},
   "cell_type": "markdown",
   "metadata": {},
   "source": [
    "3) Instanciar 3 objetos de la clase vehículo y ejecutar sus métodos, probar luego el resultado"
   ]
  },
  {
   "cell_type": "code",
   "execution_count": 8,
   "metadata": {},
   "outputs": [
    {
     "name": "stdout",
     "output_type": "stream",
     "text": [
      "Vehiculo 1 :  Moto Negro 1000 Vel: 0 Dir: 0\n",
      "Vehiculo 1 :  Auto Rojo 2500 Vel: 0 Dir: 0\n",
      "Vehiculo 1 :  Camioneta Blanco 3200 Vel: 0 Dir: 0\n",
      "Vehiculo 1 :  Moto Negro 1000 Vel: 170 Dir: 35\n",
      "Vehiculo 1 :  Auto Rojo 2500 Vel: 70 Dir: 25\n",
      "Vehiculo 1 :  Camioneta Blanco 3200 Vel: 0 Dir: 0\n"
     ]
    }
   ],
   "source": [
    "moto = Vehiculo(\"Negro\",\"Moto\",1000)\n",
    "auto = Vehiculo(\"Rojo\",\"Auto\",2500)\n",
    "camioneta = Vehiculo(\"Blanco\",\"Camioneta\",3200)\n",
    "\n",
    "print(\"Vehiculo 1 : \",moto.tipo,moto.color,moto.cilindraje,\"Vel:\",moto.velocidad,\"Dir:\",moto.direccion)\n",
    "print(\"Vehiculo 1 : \",auto.tipo,auto.color,auto.cilindraje,\"Vel:\",auto.velocidad,\"Dir:\",auto.direccion)\n",
    "print(\"Vehiculo 1 : \",camioneta.tipo,camioneta.color,camioneta.cilindraje,\"Vel:\",camioneta.velocidad,\"Dir:\",camioneta.direccion)\n",
    "\n",
    "moto.acelerar(80)\n",
    "moto.frenar(20)\n",
    "moto.doblar(45)\n",
    "\n",
    "auto.acelerar(100)\n",
    "auto.frenar(30)\n",
    "auto.doblar(25)\n",
    "\n",
    "moto.acelerar(120)\n",
    "moto.frenar(10)\n",
    "moto.doblar(-10)\n",
    "\n",
    "print(\"Vehiculo 1 : \",moto.tipo,moto.color,moto.cilindraje,\"Vel:\",moto.velocidad,\"Dir:\",moto.direccion)\n",
    "print(\"Vehiculo 1 : \",auto.tipo,auto.color,auto.cilindraje,\"Vel:\",auto.velocidad,\"Dir:\",auto.direccion)\n",
    "print(\"Vehiculo 1 : \",camioneta.tipo,camioneta.color,camioneta.cilindraje,\"Vel:\",camioneta.velocidad,\"Dir:\",camioneta.direccion)\n"
   ]
  },
  {
   "attachments": {},
   "cell_type": "markdown",
   "metadata": {},
   "source": [
    "4) Agregar a la clase Vehiculo, un método que muestre su estado, es decir, a que velocidad se encuentra y su dirección. Y otro método que muestre color, tipo y cilindrada"
   ]
  },
  {
   "cell_type": "code",
   "execution_count": 6,
   "metadata": {},
   "outputs": [],
   "source": [
    "class Vehiculo:\n",
    "    def __init__(self,color,tipo,cilindraje):\n",
    "        self.color = color\n",
    "        self.tipo = tipo\n",
    "        self.cilindraje = cilindraje\n",
    "        self.velocidad = 0\n",
    "        self.direccion = 0\n",
    "\n",
    "    def acelerar(self,vel):\n",
    "        self.velocidad += vel\n",
    "\n",
    "    def frenar(self,vel):        \n",
    "        self.velocidad -= vel\n",
    "\n",
    "    def doblar(self,giro):\n",
    "        self.direccion += giro\n",
    "\n",
    "    def estado(self):\n",
    "        print(\"Velocidad:\",self.velocidad,\"Direccion:\",self.direccion)\n",
    "\n",
    "    def descripcion(self):\n",
    "        print(\"Tipo de vehiculo:\",self.tipo,\"Color:\",self.color,\"Cilindraje:\",self.cilindraje)"
   ]
  },
  {
   "attachments": {},
   "cell_type": "markdown",
   "metadata": {},
   "source": [
    "5) Crear una clase que permita utilizar las funciones creadas en la práctica del módulo 7<br>\n",
    "Verificar Primo<br>\n",
    "Valor modal<br>\n",
    "Conversión grados<br>\n",
    "Factorial<br>"
   ]
  },
  {
   "cell_type": "code",
   "execution_count": 37,
   "metadata": {},
   "outputs": [],
   "source": [
    "class Operacion:\n",
    "\n",
    "    def __init__(self) -> None:\n",
    "        pass\n",
    "\n",
    "    def verificarPrimo(self,num):\n",
    "        primo = True\n",
    "        for i in range(2,num):\n",
    "            if(num % i == 0):\n",
    "                primo = False\n",
    "        return primo\n",
    "    \n",
    "    def numMasRepetido(self,lista):\n",
    "        listaValores = list(set(lista)) #Eliminar valores duplicados\n",
    "        numRepeticion=[] #Lista de numero de repeticiones\n",
    "        mayorRept=0 #Indice del numero que mas se repite\n",
    "        for i in listaValores:\n",
    "            numRepeticion.append(lista.count(i))\n",
    "\n",
    "        for i,x in enumerate(numRepeticion):\n",
    "            if x>=numRepeticion[mayorRept]:\n",
    "                mayorRept = i\n",
    "\n",
    "        return listaValores[mayorRept],numRepeticion[mayorRept]\n",
    "    \n",
    "    def conversionGrados(self,valor,gradosOrigen,gradosDestino):\n",
    "        if gradosOrigen == gradosDestino:\n",
    "            resultado = valor\n",
    "        else:        \n",
    "            if gradosOrigen == \"Farenheit\":\n",
    "                if gradosDestino == \"Kelvin\":\n",
    "                    resultado = (valor+459.67)*(5/9)            \n",
    "                elif gradosDestino == \"Celsius\":\n",
    "                    resultado = (valor*(9/5))+32\n",
    "                else:\n",
    "                    print(\"Parametro destino incorrecto\")\n",
    "                    resultado = False\n",
    "            elif gradosOrigen == \"Kelvin\":\n",
    "                if gradosDestino == \"Farenheit\":\n",
    "                    resultado = (valor-273.16)*(9/5)+32\n",
    "                elif gradosDestino == \"Celsius\":\n",
    "                    resultado = valor-273.15\n",
    "                else:\n",
    "                    print(\"Parametro destino incorrecto\")\n",
    "                    resultado = False\n",
    "            elif gradosOrigen == \"Celsius\":\n",
    "                if gradosDestino == \"Kelvin\":\n",
    "                    resultado = valor+273.15\n",
    "                elif gradosDestino == \"Farenheit\":\n",
    "                    resultado = (valor*9/5)+32\n",
    "                else:\n",
    "                    print(\"Parametro destino incorrecto\")\n",
    "                    resultado = False\n",
    "            else:\n",
    "                print(\"Parametro origen incorrecto\")\n",
    "                resultado = False\n",
    "        \n",
    "        return resultado  \n",
    "    \n",
    "    def factorial(self,numero):\n",
    "        if type(numero) != int:\n",
    "            return \"El numero debe ser entero\"\n",
    "        elif numero<0 :\n",
    "            return \"El numero debe ser positivo\"\n",
    "        elif numero <= 1:\n",
    "            return 1\n",
    "        \n",
    "        numero = numero * (self.factorial(numero-1))\n",
    "\n",
    "        return numero"
   ]
  },
  {
   "attachments": {},
   "cell_type": "markdown",
   "metadata": {},
   "source": [
    "6) Probar las funciones incorporadas en la clase del punto 5"
   ]
  },
  {
   "cell_type": "code",
   "execution_count": 38,
   "metadata": {},
   "outputs": [
    {
     "name": "stdout",
     "output_type": "stream",
     "text": [
      "False\n",
      "El numero que mas se repite es el 2 , 9 veces\n",
      "80 grados Farenheit a Celsius =  176.0\n",
      "479001600\n"
     ]
    }
   ],
   "source": [
    "operador = Operacion()\n",
    "\n",
    "print(operador.verificarPrimo(18))\n",
    "listaNumeros = [1,2,3,4,5,6,7,8,9,10,10,2,8,4,5,9,6,7,2,3,5,5,4,8,8,1,6,6,1,2,2,2,2,2,2]\n",
    "#numero mas reperido\n",
    "x,y = operador.numMasRepetido(listaNumeros)\n",
    "print(\"El numero que mas se repite es el\",x,\",\",y,\"veces\")\n",
    "print(\"80 grados Farenheit a Celsius = \",operador.conversionGrados(80,\"Farenheit\",\"Celsius\"))\n",
    "print(operador.factorial(12))"
   ]
  },
  {
   "attachments": {},
   "cell_type": "markdown",
   "metadata": {},
   "source": [
    "7) Es necesario que la clase creada en el punto 5 contenga una lista, sobre la cual se apliquen las funciones incorporadas"
   ]
  },
  {
   "cell_type": "code",
   "execution_count": 21,
   "metadata": {},
   "outputs": [],
   "source": [
    "class Operacion:\n",
    "\n",
    "    def __init__(self,listaNumeros):\n",
    "        self.lista = listaNumeros\n",
    "\n",
    "    def verificarPrimo(self):\n",
    "        for i in self.lista:\n",
    "            if self.__verificarPrimo(i):\n",
    "                print(\"Numero\",i,\"es primo\")\n",
    "            else:\n",
    "                print(\"Numero\",i,\"no es primo\")\n",
    "\n",
    "    def conversionGrados(self,origen,destino):        \n",
    "        for i in self.lista:\n",
    "            print(i,\"grados\",origen,\"a\",destino,\"=\",self.__conversionGrados(i,origen,destino))\n",
    "\n",
    "    def factorial(self):\n",
    "        for i in self.lista:\n",
    "            print(\"Factorial de\",i,\"=\",self.__factorial(i))\n",
    "\n",
    "    def __verificarPrimo(self,num):\n",
    "        primo = True\n",
    "        for i in range(2,num):\n",
    "            if(num % i == 0):\n",
    "                primo = False\n",
    "        return primo\n",
    "    \n",
    "    def numMasRepetido(self):\n",
    "        listaValores = list(set(self.lista)) #Eliminar valores duplicados\n",
    "        numRepeticion=[] #Lista de numero de repeticiones\n",
    "        mayorRept=0 #Indice del numero que mas se repite\n",
    "        for i in listaValores:\n",
    "            numRepeticion.append(self.lista.count(i))\n",
    "\n",
    "        for i,x in enumerate(numRepeticion):\n",
    "            if x>=numRepeticion[mayorRept]:\n",
    "                mayorRept = i\n",
    "\n",
    "        return listaValores[mayorRept],numRepeticion[mayorRept]\n",
    "    \n",
    "    def __conversionGrados(self,valor,gradosOrigen,gradosDestino):\n",
    "        if gradosOrigen == gradosDestino:\n",
    "            resultado = valor\n",
    "        else:        \n",
    "            if gradosOrigen == \"Farenheit\":\n",
    "                if gradosDestino == \"Kelvin\":\n",
    "                    resultado = (valor+459.67)*(5/9)            \n",
    "                elif gradosDestino == \"Celsius\":\n",
    "                    resultado = (valor*(9/5))+32\n",
    "                else:\n",
    "                    print(\"Parametro destino incorrecto\")\n",
    "                    resultado = False\n",
    "            elif gradosOrigen == \"Kelvin\":\n",
    "                if gradosDestino == \"Farenheit\":\n",
    "                    resultado = (valor-273.16)*(9/5)+32\n",
    "                elif gradosDestino == \"Celsius\":\n",
    "                    resultado = valor-273.15\n",
    "                else:\n",
    "                    print(\"Parametro destino incorrecto\")\n",
    "                    resultado = False\n",
    "            elif gradosOrigen == \"Celsius\":\n",
    "                if gradosDestino == \"Kelvin\":\n",
    "                    resultado = valor+273.15\n",
    "                elif gradosDestino == \"Farenheit\":\n",
    "                    resultado = (valor*9/5)+32\n",
    "                else:\n",
    "                    print(\"Parametro destino incorrecto\")\n",
    "                    resultado = False\n",
    "            else:\n",
    "                print(\"Parametro origen incorrecto\")\n",
    "                resultado = False\n",
    "        \n",
    "        return resultado  \n",
    "    \n",
    "    def __factorial(self,numero):\n",
    "        if type(numero) != int:\n",
    "            return \"El numero debe ser entero\"\n",
    "        elif numero<0 :\n",
    "            return \"El numero debe ser positivo\"\n",
    "        elif numero <= 1:\n",
    "            return 1\n",
    "        \n",
    "        numero = numero * (self.__factorial(numero-1))\n",
    "\n",
    "        return numero"
   ]
  },
  {
   "cell_type": "code",
   "execution_count": 27,
   "metadata": {},
   "outputs": [
    {
     "name": "stdout",
     "output_type": "stream",
     "text": [
      "Numero 2 es primo\n",
      "Numero 4 no es primo\n",
      "Numero 5 es primo\n",
      "Numero 6 no es primo\n",
      "Numero 7 es primo\n",
      "Numero 7 es primo\n",
      "Numero 11 es primo\n",
      "2 grados Farenheit a Celsius = 35.6\n",
      "4 grados Farenheit a Celsius = 39.2\n",
      "5 grados Farenheit a Celsius = 41.0\n",
      "6 grados Farenheit a Celsius = 42.8\n",
      "7 grados Farenheit a Celsius = 44.6\n",
      "7 grados Farenheit a Celsius = 44.6\n",
      "11 grados Farenheit a Celsius = 51.8\n",
      "Factorial de 2 = 2\n",
      "Factorial de 4 = 24\n",
      "Factorial de 5 = 120\n",
      "Factorial de 6 = 720\n",
      "Factorial de 7 = 5040\n",
      "Factorial de 7 = 5040\n",
      "Factorial de 11 = 39916800\n",
      "El numero que mas se repite es el 7 , 2 veces\n"
     ]
    }
   ],
   "source": [
    "listaNumeros = [2,4,5,6,7,7,11]\n",
    "\n",
    "operador2 = Operacion(listaNumeros)\n",
    "\n",
    "operador2.verificarPrimo()\n",
    "operador2.conversionGrados(\"Farenheit\",\"Celsius\")\n",
    "operador2.factorial()\n",
    "x,y = operador2.numMasRepetido()\n",
    "print(\"El numero que mas se repite es el\",x,\",\",y,\"veces\")"
   ]
  },
  {
   "attachments": {},
   "cell_type": "markdown",
   "metadata": {},
   "source": [
    "8) Crear un archivo .py aparte y ubicar allí la clase generada en el punto anterior. Luego realizar la importación del módulo y probar alguna de sus funciones"
   ]
  },
  {
   "cell_type": "code",
   "execution_count": 35,
   "metadata": {},
   "outputs": [
    {
     "name": "stdout",
     "output_type": "stream",
     "text": [
      "Numero 2 es primo\n",
      "Numero 4 no es primo\n",
      "Numero 5 es primo\n",
      "Numero 6 no es primo\n",
      "Numero 7 es primo\n",
      "Numero 7 es primo\n",
      "Numero 11 es primo\n",
      "2 grados Farenheit a Celsius = 35.6\n",
      "4 grados Farenheit a Celsius = 39.2\n",
      "5 grados Farenheit a Celsius = 41.0\n",
      "6 grados Farenheit a Celsius = 42.8\n",
      "7 grados Farenheit a Celsius = 44.6\n",
      "7 grados Farenheit a Celsius = 44.6\n",
      "11 grados Farenheit a Celsius = 51.8\n",
      "Factorial de 2 = 2\n",
      "Factorial de 4 = 24\n",
      "Factorial de 5 = 120\n",
      "Factorial de 6 = 720\n",
      "Factorial de 7 = 5040\n",
      "Factorial de 7 = 5040\n",
      "Factorial de 11 = 39916800\n",
      "El numero que mas se repite es el 7 , 2 veces\n"
     ]
    }
   ],
   "source": [
    "from operaciones import * \n",
    "\n",
    "listaNum = [2,4,5,6,7,7,11]\n",
    "\n",
    "operadorImpor = Operaciones(listaNum)\n",
    "\n",
    "operadorImpor.verificarPrimo()\n",
    "operadorImpor.conversionGrados(\"Farenheit\",\"Celsius\")\n",
    "operadorImpor.factorial()\n",
    "x,y = operadorImpor.numMasRepetido()\n",
    "print(\"El numero que mas se repite es el\",x,\",\",y,\"veces\")\n"
   ]
  }
 ],
 "metadata": {
  "interpreter": {
   "hash": "c85384e4cb51c8b72350f3a8712cc8351fdc3955e32a27f9b60c6242ab125f01"
  },
  "kernelspec": {
   "display_name": "Python 3 (ipykernel)",
   "language": "python",
   "name": "python3"
  },
  "language_info": {
   "codemirror_mode": {
    "name": "ipython",
    "version": 3
   },
   "file_extension": ".py",
   "mimetype": "text/x-python",
   "name": "python",
   "nbconvert_exporter": "python",
   "pygments_lexer": "ipython3",
   "version": "3.12.1"
  }
 },
 "nbformat": 4,
 "nbformat_minor": 4
}
