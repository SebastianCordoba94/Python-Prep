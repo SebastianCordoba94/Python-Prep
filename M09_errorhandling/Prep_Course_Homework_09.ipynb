{
 "cells": [
  {
   "attachments": {},
   "cell_type": "markdown",
   "metadata": {},
   "source": [
    "## Manejo de errores"
   ]
  },
  {
   "attachments": {},
   "cell_type": "markdown",
   "metadata": {},
   "source": [
    "1) Con la clase creada en el módulo 7, tener en cuenta diferentes casos en que el código pudiera arrojar error. Por ejemplo, en la creación del objeto recibimos una lista de números enteros pero ¿qué pasa si se envía otro tipo de dato?"
   ]
  },
  {
   "cell_type": "code",
   "execution_count": 1,
   "metadata": {},
   "outputs": [],
   "source": [
    "import operaciones as op\n",
    "import importlib"
   ]
  },
  {
   "cell_type": "code",
   "execution_count": 43,
   "metadata": {},
   "outputs": [],
   "source": [
    "importlib.reload(op)\n",
    "listaNum = [2,15,5.5,6,7,7,65]\n",
    "operador = op.Operaciones(listaNum)\n"
   ]
  },
  {
   "attachments": {},
   "cell_type": "markdown",
   "metadata": {},
   "source": [
    "2) En la función que hace la conversión de grados, validar que los parámetros enviados sean los esperados, de no serlo, informar cuáles son los valores esperados."
   ]
  },
  {
   "cell_type": "code",
   "execution_count": 38,
   "metadata": {},
   "outputs": [
    {
     "name": "stdout",
     "output_type": "stream",
     "text": [
      "2 grados Farenheit a Kelvin = 256.48333333333335\n",
      "15 grados Farenheit a Kelvin = 263.7055555555556\n",
      "5.5 grados Farenheit a Kelvin = 258.4277777777778\n",
      "6 grados Farenheit a Kelvin = 258.7055555555556\n",
      "7 grados Farenheit a Kelvin = 259.2611111111111\n",
      "7 grados Farenheit a Kelvin = 259.2611111111111\n",
      "65 grados Farenheit a Kelvin = 291.4833333333334\n",
      "None\n"
     ]
    },
    {
     "ename": "ValueError",
     "evalue": "('Los parametros ingresados son incorrectos, deben ser los siguientes', ['Celsius', 'Kelvin', 'Farenheit'])",
     "output_type": "error",
     "traceback": [
      "\u001b[1;31m---------------------------------------------------------------------------\u001b[0m",
      "\u001b[1;31mValueError\u001b[0m                                Traceback (most recent call last)",
      "Cell \u001b[1;32mIn[38], line 2\u001b[0m\n\u001b[0;32m      1\u001b[0m \u001b[38;5;28mprint\u001b[39m(operador\u001b[38;5;241m.\u001b[39mconversionGrados(\u001b[38;5;124m\"\u001b[39m\u001b[38;5;124mFarenheit\u001b[39m\u001b[38;5;124m\"\u001b[39m,\u001b[38;5;124m\"\u001b[39m\u001b[38;5;124mKelvin\u001b[39m\u001b[38;5;124m\"\u001b[39m))\n\u001b[1;32m----> 2\u001b[0m \u001b[38;5;28mprint\u001b[39m(\u001b[43moperador\u001b[49m\u001b[38;5;241;43m.\u001b[39;49m\u001b[43mconversionGrados\u001b[49m\u001b[43m(\u001b[49m\u001b[38;5;124;43m\"\u001b[39;49m\u001b[38;5;124;43mFareeit\u001b[39;49m\u001b[38;5;124;43m\"\u001b[39;49m\u001b[43m,\u001b[49m\u001b[38;5;124;43m\"\u001b[39;49m\u001b[38;5;124;43mKelvin\u001b[39;49m\u001b[38;5;124;43m\"\u001b[39;49m\u001b[43m)\u001b[49m)\n",
      "File \u001b[1;32mc:\\Users\\HP\\Documents\\GitHub\\Python-Prep\\M09_errorhandling\\operaciones.py:22\u001b[0m, in \u001b[0;36mOperaciones.conversionGrados\u001b[1;34m(self, origen, destino)\u001b[0m\n\u001b[0;32m     20\u001b[0m         \u001b[38;5;28mprint\u001b[39m(i,\u001b[38;5;124m\"\u001b[39m\u001b[38;5;124mgrados\u001b[39m\u001b[38;5;124m\"\u001b[39m,origen,\u001b[38;5;124m\"\u001b[39m\u001b[38;5;124ma\u001b[39m\u001b[38;5;124m\"\u001b[39m,destino,\u001b[38;5;124m\"\u001b[39m\u001b[38;5;124m=\u001b[39m\u001b[38;5;124m\"\u001b[39m,\u001b[38;5;28mself\u001b[39m\u001b[38;5;241m.\u001b[39m__conversionGrados(i,origen,destino))\n\u001b[0;32m     21\u001b[0m \u001b[38;5;28;01melse\u001b[39;00m:\n\u001b[1;32m---> 22\u001b[0m     \u001b[38;5;28;01mraise\u001b[39;00m \u001b[38;5;167;01mValueError\u001b[39;00m(\u001b[38;5;124m\"\u001b[39m\u001b[38;5;124mLos parametros ingresados son incorrectos, deben ser los siguientes\u001b[39m\u001b[38;5;124m\"\u001b[39m,parametros)\n",
      "\u001b[1;31mValueError\u001b[0m: ('Los parametros ingresados son incorrectos, deben ser los siguientes', ['Celsius', 'Kelvin', 'Farenheit'])"
     ]
    }
   ],
   "source": [
    "\n",
    "print(operador.conversionGrados(\"Farenheit\",\"Kelvin\"))\n",
    "print(operador.conversionGrados(\"Fareeit\",\"Kelvin\"))"
   ]
  },
  {
   "attachments": {},
   "cell_type": "markdown",
   "metadata": {},
   "source": [
    "3) Importar el modulo \"unittest\" y crear los siguientes casos de pruebas sobre la clase utilizada en el punto 2<br>\n",
    "Creacion del objeto incorrecta<br>\n",
    "Creacion correcta del objeto<br>\n",
    "Metodo valor_modal()<br>\n",
    "\n",
    "Se puede usar \"raise ValueError()\" en la creación de la clase para verificar el error. Investigar sobre esta funcionalidad."
   ]
  },
  {
   "cell_type": "code",
   "execution_count": 39,
   "metadata": {},
   "outputs": [],
   "source": [
    "import unittest"
   ]
  },
  {
   "cell_type": "code",
   "execution_count": 74,
   "metadata": {},
   "outputs": [],
   "source": [
    "class testOperaciones(unittest.TestCase):\n",
    "    def testCrearObjeto1(self):\n",
    "        lista = \"Operador\"\n",
    "        self.assertRaises(AssertionError, op.Operaciones, lista)\n",
    "\n",
    "    def testCrearObjeto2(self):\n",
    "        lista = [2,4,6,11]\n",
    "        objeto = op.Operaciones(lista)\n",
    "        self.assertEqual(objeto.lista,lista)\n",
    "\n",
    "    def testNumeroMasRepetido(self):\n",
    "        lista = [2,4.5,6,5,5]\n",
    "        objeto = op.Operaciones(lista)\n",
    "        num,repet = objeto.numMasRepetido()\n",
    "        resultado = [num,repet]\n",
    "        resultadoEsperado = [5 , 2]\n",
    "        self.assertEqual(resultado , resultadoEsperado)\n"
   ]
  },
  {
   "cell_type": "code",
   "execution_count": 62,
   "metadata": {},
   "outputs": [
    {
     "name": "stderr",
     "output_type": "stream",
     "text": [
      "testCrearObjeto1 (__main__.testOperaciones.testCrearObjeto1) ... ok\n",
      "testCrearObjeto2 (__main__.testOperaciones.testCrearObjeto2) ... ok\n",
      "testNumeroMasRepetido (__main__.testOperaciones.testNumeroMasRepetido) ... ok\n",
      "\n",
      "----------------------------------------------------------------------\n",
      "Ran 3 tests in 0.010s\n",
      "\n",
      "OK\n"
     ]
    },
    {
     "data": {
      "text/plain": [
       "<unittest.main.TestProgram at 0x16a367e10d0>"
      ]
     },
     "execution_count": 62,
     "metadata": {},
     "output_type": "execute_result"
    }
   ],
   "source": [
    "unittest.main(argv=[''], verbosity=3, exit=False)"
   ]
  },
  {
   "attachments": {},
   "cell_type": "markdown",
   "metadata": {},
   "source": [
    "4) Probar una creación incorrecta y visualizar la salida del \"raise\""
   ]
  },
  {
   "cell_type": "code",
   "execution_count": 65,
   "metadata": {},
   "outputs": [
    {
     "ename": "AssertionError",
     "evalue": "La lista debe contener solo numeros",
     "output_type": "error",
     "traceback": [
      "\u001b[1;31m---------------------------------------------------------------------------\u001b[0m",
      "\u001b[1;31mAssertionError\u001b[0m                            Traceback (most recent call last)",
      "Cell \u001b[1;32mIn[65], line 2\u001b[0m\n\u001b[0;32m      1\u001b[0m lista \u001b[38;5;241m=\u001b[39m [\u001b[38;5;241m5\u001b[39m,\u001b[38;5;124m\"\u001b[39m\u001b[38;5;124mh\u001b[39m\u001b[38;5;124m\"\u001b[39m,\u001b[38;5;241m9\u001b[39m]\n\u001b[1;32m----> 2\u001b[0m opera2 \u001b[38;5;241m=\u001b[39m \u001b[43mop\u001b[49m\u001b[38;5;241;43m.\u001b[39;49m\u001b[43mOperaciones\u001b[49m\u001b[43m(\u001b[49m\u001b[43mlista\u001b[49m\u001b[43m)\u001b[49m\n",
      "File \u001b[1;32mc:\\Users\\HP\\Documents\\GitHub\\Python-Prep\\M09_errorhandling\\operaciones.py:6\u001b[0m, in \u001b[0;36mOperaciones.__init__\u001b[1;34m(self, listaNumeros)\u001b[0m\n\u001b[0;32m      4\u001b[0m \u001b[38;5;28;01massert\u001b[39;00m \u001b[38;5;28mtype\u001b[39m(listaNumeros)\u001b[38;5;241m==\u001b[39m\u001b[38;5;28mlist\u001b[39m,\u001b[38;5;124m\"\u001b[39m\u001b[38;5;124mNo se esta ingresando una lista valida\u001b[39m\u001b[38;5;124m\"\u001b[39m \n\u001b[0;32m      5\u001b[0m \u001b[38;5;28;01mfor\u001b[39;00m i \u001b[38;5;129;01min\u001b[39;00m listaNumeros:\n\u001b[1;32m----> 6\u001b[0m     \u001b[38;5;28;01massert\u001b[39;00m \u001b[38;5;28mtype\u001b[39m(i)\u001b[38;5;241m==\u001b[39m\u001b[38;5;28mint\u001b[39m \u001b[38;5;129;01mor\u001b[39;00m \u001b[38;5;28mtype\u001b[39m(i)\u001b[38;5;241m==\u001b[39m\u001b[38;5;28mfloat\u001b[39m ,\u001b[38;5;124m\"\u001b[39m\u001b[38;5;124mLa lista debe contener solo numeros\u001b[39m\u001b[38;5;124m\"\u001b[39m\n\u001b[0;32m      7\u001b[0m \u001b[38;5;28mself\u001b[39m\u001b[38;5;241m.\u001b[39mlista \u001b[38;5;241m=\u001b[39m listaNumeros\n",
      "\u001b[1;31mAssertionError\u001b[0m: La lista debe contener solo numeros"
     ]
    }
   ],
   "source": [
    "lista = [5,\"h\",9]\n",
    "opera2 = op.Operaciones(lista)"
   ]
  },
  {
   "attachments": {},
   "cell_type": "markdown",
   "metadata": {},
   "source": [
    "6) Agregar casos de pruebas para el método verifica_primos() realizando el cambio en la clase, para que devuelva una lista de True o False en función de que el elemento en la posisicón sea o no primo"
   ]
  },
  {
   "cell_type": "code",
   "execution_count": 95,
   "metadata": {},
   "outputs": [],
   "source": [
    "importlib.reload(op)\n",
    "\n",
    "class testOperaciones2(unittest.TestCase):\n",
    "    \n",
    "    def testValidarPrimo(self):\n",
    "        listaPrueba = [3,2,5,8]\n",
    "        objeto = op.Operaciones(listaPrueba)\n",
    "        resultado = objeto.verificarPrimo()\n",
    "        resultadoEsperado = [True, True, True, False]\n",
    "        self.assertEqual(resultado , resultadoEsperado)"
   ]
  },
  {
   "cell_type": "code",
   "execution_count": 78,
   "metadata": {},
   "outputs": [
    {
     "name": "stderr",
     "output_type": "stream",
     "text": [
      "testCrearObjeto1 (__main__.testOperaciones.testCrearObjeto1) ... ok\n",
      "testCrearObjeto2 (__main__.testOperaciones.testCrearObjeto2) ... ok\n",
      "testNumeroMasRepetido (__main__.testOperaciones.testNumeroMasRepetido) ... ok\n",
      "testValidarPrimo (__main__.testOperaciones2.testValidarPrimo) ... ok\n",
      "\n",
      "----------------------------------------------------------------------\n",
      "Ran 4 tests in 0.009s\n",
      "\n",
      "OK\n"
     ]
    },
    {
     "data": {
      "text/plain": [
       "<unittest.main.TestProgram at 0x16a367d4140>"
      ]
     },
     "execution_count": 78,
     "metadata": {},
     "output_type": "execute_result"
    }
   ],
   "source": [
    "unittest.main(argv=[''], verbosity=4, exit=False)"
   ]
  },
  {
   "attachments": {},
   "cell_type": "markdown",
   "metadata": {},
   "source": [
    "7) Agregar casos de pruebas para el método conversion_grados()"
   ]
  },
  {
   "cell_type": "code",
   "execution_count": 96,
   "metadata": {},
   "outputs": [],
   "source": [
    "class testOperaciones3(unittest.TestCase):\n",
    "\n",
    "    def testConversionGrados(self):\n",
    "        lista = [8,7,5,2,12]\n",
    "        objeto = op.Operaciones(lista)\n",
    "        resultado = objeto.conversionGrados(\"Farenheit\",\"Celsius\")\n",
    "        resultadoEsperado = [46.4, 44.6, 41.0, 35.6, 53.6]\n",
    "        self.assertEqual(resultado, resultadoEsperado)"
   ]
  },
  {
   "cell_type": "code",
   "execution_count": 97,
   "metadata": {},
   "outputs": [
    {
     "name": "stderr",
     "output_type": "stream",
     "text": [
      "testCrearObjeto1 (__main__.testOperaciones.testCrearObjeto1) ... ok\n",
      "testCrearObjeto2 (__main__.testOperaciones.testCrearObjeto2) ... ok\n",
      "testNumeroMasRepetido (__main__.testOperaciones.testNumeroMasRepetido) ... ok\n",
      "testValidarPrimo (__main__.testOperaciones2.testValidarPrimo) ... ok\n",
      "testConversionGrados (__main__.testOperaciones3.testConversionGrados) ... ok\n",
      "\n",
      "----------------------------------------------------------------------\n",
      "Ran 5 tests in 0.010s\n",
      "\n",
      "OK\n"
     ]
    },
    {
     "name": "stdout",
     "output_type": "stream",
     "text": [
      "8 grados Farenheit a Celsius = 46.4\n",
      "7 grados Farenheit a Celsius = 44.6\n",
      "5 grados Farenheit a Celsius = 41.0\n",
      "2 grados Farenheit a Celsius = 35.6\n",
      "12 grados Farenheit a Celsius = 53.6\n"
     ]
    },
    {
     "data": {
      "text/plain": [
       "<unittest.main.TestProgram at 0x16a3686d520>"
      ]
     },
     "execution_count": 97,
     "metadata": {},
     "output_type": "execute_result"
    }
   ],
   "source": [
    "unittest.main(argv=[''], verbosity=5, exit=False)"
   ]
  },
  {
   "attachments": {},
   "cell_type": "markdown",
   "metadata": {},
   "source": [
    "8) Agregar casos de pruebas para el método factorial()"
   ]
  },
  {
   "cell_type": "code",
   "execution_count": 104,
   "metadata": {},
   "outputs": [],
   "source": [
    "importlib.reload(op)\n",
    "class testOperaciones4(unittest.TestCase):\n",
    "\n",
    "    def testFactorial(self):\n",
    "        lista = [2,3,5,6]\n",
    "        objeto = op.Operaciones(lista)\n",
    "        resultado = objeto.factorial()\n",
    "        resultadoEsperado = [2,6,120,720]\n",
    "        self.assertEqual(resultado, resultadoEsperado)\n"
   ]
  },
  {
   "cell_type": "code",
   "execution_count": 103,
   "metadata": {},
   "outputs": [
    {
     "name": "stderr",
     "output_type": "stream",
     "text": [
      "testCrearObjeto1 (__main__.testOperaciones.testCrearObjeto1) ... ok\n",
      "testCrearObjeto2 (__main__.testOperaciones.testCrearObjeto2) ... ok\n",
      "testNumeroMasRepetido (__main__.testOperaciones.testNumeroMasRepetido) ... ok\n",
      "testValidarPrimo (__main__.testOperaciones2.testValidarPrimo) ... ok\n",
      "testConversionGrados (__main__.testOperaciones3.testConversionGrados) ... ok\n",
      "testFactorial (__main__.testOperaciones4.testFactorial) ... ok\n",
      "\n",
      "----------------------------------------------------------------------\n",
      "Ran 6 tests in 0.014s\n",
      "\n",
      "OK\n"
     ]
    },
    {
     "name": "stdout",
     "output_type": "stream",
     "text": [
      "8 grados Farenheit a Celsius = 46.4\n",
      "7 grados Farenheit a Celsius = 44.6\n",
      "5 grados Farenheit a Celsius = 41.0\n",
      "2 grados Farenheit a Celsius = 35.6\n",
      "12 grados Farenheit a Celsius = 53.6\n",
      "Factorial de la lista\n",
      "Factorial de 2 = 2\n",
      "Factorial de 3 = 6\n",
      "Factorial de 5 = 120\n",
      "Factorial de 6 = 720\n"
     ]
    },
    {
     "data": {
      "text/plain": [
       "<unittest.main.TestProgram at 0x16a367df5f0>"
      ]
     },
     "execution_count": 103,
     "metadata": {},
     "output_type": "execute_result"
    }
   ],
   "source": [
    "unittest.main(argv=[''], verbosity=6, exit=False)"
   ]
  }
 ],
 "metadata": {
  "interpreter": {
   "hash": "c85384e4cb51c8b72350f3a8712cc8351fdc3955e32a27f9b60c6242ab125f01"
  },
  "kernelspec": {
   "display_name": "Python 3 (ipykernel)",
   "language": "python",
   "name": "python3"
  },
  "language_info": {
   "codemirror_mode": {
    "name": "ipython",
    "version": 3
   },
   "file_extension": ".py",
   "mimetype": "text/x-python",
   "name": "python",
   "nbconvert_exporter": "python",
   "pygments_lexer": "ipython3",
   "version": "3.12.1"
  }
 },
 "nbformat": 4,
 "nbformat_minor": 4
}
