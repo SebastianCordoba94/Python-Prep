{
 "cells": [
  {
   "attachments": {},
   "cell_type": "markdown",
   "metadata": {},
   "source": [
    "## Flujos de Control"
   ]
  },
  {
   "attachments": {},
   "cell_type": "markdown",
   "metadata": {},
   "source": [
    "1) Crear una variable que contenga un elemento del conjunto de números enteros y luego imprimir por pantalla si es mayor o menor a cero"
   ]
  },
  {
   "cell_type": "code",
   "execution_count": null,
   "metadata": {},
   "outputs": [
    {
     "name": "stdout",
     "output_type": "stream",
     "text": [
      "es mayor que 0\n"
     ]
    }
   ],
   "source": [
    "a = 5\n",
    "if (a<0):\n",
    "    print(\"es menor que 0\")\n",
    "elif (a>0):\n",
    "    print(\"es mayor que 0\")\n",
    "else:\n",
    "    print(\"es igual a 0\")"
   ]
  },
  {
   "attachments": {},
   "cell_type": "markdown",
   "metadata": {},
   "source": [
    "2) Crear dos variables y un condicional que informe si son del mismo tipo de dato"
   ]
  },
  {
   "cell_type": "code",
   "execution_count": null,
   "metadata": {},
   "outputs": [
    {
     "name": "stdout",
     "output_type": "stream",
     "text": [
      "Son el mismo tipo de variable\n"
     ]
    }
   ],
   "source": [
    "var1 = 4\n",
    "var2 = \"4\"\n",
    "if(type(var1)==type(var2)):\n",
    "    print(\"Son el mismo tipo de variable\")\n",
    "else:\n",
    "    print(\"Son diferente tipo de variable\")"
   ]
  },
  {
   "attachments": {},
   "cell_type": "markdown",
   "metadata": {},
   "source": [
    "3) Para los valores enteros del 1 al 20, imprimir por pantalla si es par o impar"
   ]
  },
  {
   "cell_type": "code",
   "execution_count": null,
   "metadata": {},
   "outputs": [
    {
     "name": "stdout",
     "output_type": "stream",
     "text": [
      "El numero  1  es impar\n",
      "El numero  2  es par\n",
      "El numero  3  es impar\n",
      "El numero  4  es par\n",
      "El numero  5  es impar\n",
      "El numero  6  es par\n",
      "El numero  7  es impar\n",
      "El numero  8  es par\n",
      "El numero  9  es impar\n",
      "El numero  10  es par\n",
      "El numero  11  es impar\n",
      "El numero  12  es par\n",
      "El numero  13  es impar\n",
      "El numero  14  es par\n",
      "El numero  15  es impar\n",
      "El numero  16  es par\n",
      "El numero  17  es impar\n",
      "El numero  18  es par\n",
      "El numero  19  es impar\n",
      "El numero  20  es par\n"
     ]
    }
   ],
   "source": [
    "num = 1\n",
    "while (num<=20):\n",
    "    if(num%2==0):\n",
    "        print(\"El numero \",num,\" es par\")\n",
    "    else:\n",
    "        print(\"El numero \",num,\" es impar\")\n",
    "    num+=1"
   ]
  },
  {
   "attachments": {},
   "cell_type": "markdown",
   "metadata": {},
   "source": [
    "4) En un ciclo for mostrar para los valores entre 0 y 5 el resultado de elevarlo a la potencia igual a 3"
   ]
  },
  {
   "cell_type": "code",
   "execution_count": null,
   "metadata": {},
   "outputs": [
    {
     "name": "stdout",
     "output_type": "stream",
     "text": [
      "Valor: 0 Elevado a la 3ra potencia: 0\n",
      "Valor: 1 Elevado a la 3ra potencia: 1\n",
      "Valor: 2 Elevado a la 3ra potencia: 8\n",
      "Valor: 3 Elevado a la 3ra potencia: 27\n",
      "Valor: 4 Elevado a la 3ra potencia: 64\n",
      "Valor: 5 Elevado a la 3ra potencia: 125\n"
     ]
    }
   ],
   "source": [
    "for i in range(6):\n",
    "    print(f\"Valor: {i} Elevado a la 3ra potencia: {i**3}\")"
   ]
  },
  {
   "attachments": {},
   "cell_type": "markdown",
   "metadata": {},
   "source": [
    "5) Crear una variable que contenga un número entero y realizar un ciclo for la misma cantidad de ciclos"
   ]
  },
  {
   "cell_type": "code",
   "execution_count": null,
   "metadata": {},
   "outputs": [
    {
     "name": "stdout",
     "output_type": "stream",
     "text": [
      "0\n",
      "1\n",
      "2\n",
      "3\n",
      "4\n",
      "5\n",
      "6\n",
      "7\n",
      "8\n",
      "9\n",
      "10\n",
      "11\n"
     ]
    }
   ],
   "source": [
    "x = 12\n",
    "for i in range(x):\n",
    "    print(i)\n"
   ]
  },
  {
   "attachments": {},
   "cell_type": "markdown",
   "metadata": {},
   "source": [
    "6) Utilizar un ciclo while para realizar el factorial de un número guardado en una variable, sólo si la variable contiene un número entero mayor a 0"
   ]
  },
  {
   "cell_type": "code",
   "execution_count": null,
   "metadata": {},
   "outputs": [
    {
     "name": "stdout",
     "output_type": "stream",
     "text": [
      "El factorial es 6\n"
     ]
    }
   ],
   "source": [
    "x = 3\n",
    "if(type(x)==int):\n",
    "    if(x>0):\n",
    "        fac = x\n",
    "        while (x > 2):\n",
    "            x = x - 1\n",
    "            fac = fac * x\n",
    "        print(\"El factorial es\", fac)\n",
    "    else:\n",
    "        print(\"El numero es menor que 0 o es 0\")\n",
    "else:\n",
    "    print(\"No es un entero\")"
   ]
  },
  {
   "attachments": {},
   "cell_type": "markdown",
   "metadata": {},
   "source": [
    "7) Crear un ciclo for dentro de un ciclo while"
   ]
  },
  {
   "cell_type": "code",
   "execution_count": null,
   "metadata": {},
   "outputs": [
    {
     "name": "stdout",
     "output_type": "stream",
     "text": [
      "Ciclo while  5\n",
      "Ciclo for  0\n",
      "Ciclo for  1\n",
      "Ciclo for  2\n",
      "Ciclo for  3\n",
      "Ciclo for  4\n",
      "Ciclo while  4\n",
      "Ciclo for  0\n",
      "Ciclo for  1\n",
      "Ciclo for  2\n",
      "Ciclo for  3\n",
      "Ciclo while  3\n",
      "Ciclo for  0\n",
      "Ciclo for  1\n",
      "Ciclo for  2\n",
      "Ciclo while  2\n",
      "Ciclo for  0\n",
      "Ciclo for  1\n",
      "Ciclo while  1\n",
      "Ciclo for  0\n"
     ]
    }
   ],
   "source": [
    "x = 5\n",
    "while(x>0):\n",
    "    print(\"Ciclo while \",str(x))\n",
    "    for i in range(x):\n",
    "        print(\"Ciclo for \",str(i))\n",
    "    x-=1\n"
   ]
  },
  {
   "attachments": {},
   "cell_type": "markdown",
   "metadata": {},
   "source": [
    "8) Crear un ciclo while dentro de un ciclo for"
   ]
  },
  {
   "cell_type": "code",
   "execution_count": null,
   "metadata": {},
   "outputs": [
    {
     "name": "stdout",
     "output_type": "stream",
     "text": [
      "Ciclo for  0\n",
      "Ciclo while  3\n",
      "Ciclo while  2\n",
      "Ciclo while  1\n",
      "Ciclo for  1\n",
      "Ciclo while  3\n",
      "Ciclo while  2\n",
      "Ciclo while  1\n",
      "Ciclo for  2\n",
      "Ciclo while  3\n",
      "Ciclo while  2\n",
      "Ciclo while  1\n"
     ]
    }
   ],
   "source": [
    "x = 3\n",
    "for i in range(x):\n",
    "    print(\"Ciclo for \",str(i))\n",
    "    x_temp = x\n",
    "    while(x_temp>0):\n",
    "        print(\"Ciclo while \",str(x_temp))\n",
    "        x_temp-=1   "
   ]
  },
  {
   "attachments": {},
   "cell_type": "markdown",
   "metadata": {},
   "source": [
    "9) Imprimir los números primos existentes entre 0 y 30"
   ]
  },
  {
   "cell_type": "code",
   "execution_count": null,
   "metadata": {},
   "outputs": [
    {
     "name": "stdout",
     "output_type": "stream",
     "text": [
      "0  Es primo\n",
      "1  Es primo\n",
      "2  Es primo\n",
      "3  Es primo\n",
      "5  Es primo\n",
      "7  Es primo\n",
      "11  Es primo\n",
      "13  Es primo\n",
      "17  Es primo\n",
      "19  Es primo\n",
      "23  Es primo\n",
      "29  Es primo\n"
     ]
    }
   ],
   "source": [
    "rango=30\n",
    "x=0\n",
    "primo=True\n",
    "while(x<rango):\n",
    "    for i in range(2,x):\n",
    "        if(x % i == 0):\n",
    "            primo = False\n",
    "    if(primo):\n",
    "        print(str(x),\" Es primo\")\n",
    "    else:\n",
    "        primo = True\n",
    "    x+=1\n"
   ]
  },
  {
   "attachments": {},
   "cell_type": "markdown",
   "metadata": {},
   "source": [
    "10) ¿Se puede mejorar el proceso del punto 9? Utilizar las sentencias break y/ó continue para tal fin"
   ]
  },
  {
   "cell_type": "code",
   "execution_count": null,
   "metadata": {},
   "outputs": [
    {
     "name": "stdout",
     "output_type": "stream",
     "text": [
      "0  Es primo\n",
      "1  Es primo\n",
      "2  Es primo\n",
      "3  Es primo\n",
      "5  Es primo\n",
      "7  Es primo\n",
      "11  Es primo\n",
      "13  Es primo\n",
      "17  Es primo\n",
      "19  Es primo\n",
      "23  Es primo\n",
      "29  Es primo\n"
     ]
    }
   ],
   "source": [
    "rango=30\n",
    "x=0\n",
    "primo=True\n",
    "while(x<rango):\n",
    "    for i in range(2,x):\n",
    "        if(x % i == 0):\n",
    "            primo = False\n",
    "            break\n",
    "    if(primo):\n",
    "        print(str(x),\" Es primo\")\n",
    "    else:\n",
    "        primo = True\n",
    "    x+=1"
   ]
  },
  {
   "attachments": {},
   "cell_type": "markdown",
   "metadata": {},
   "source": [
    "11) En los puntos 9 y 10, se diseño un código que encuentra números primos y además se lo optimizó. ¿Es posible saber en qué medida se optimizó?"
   ]
  },
  {
   "cell_type": "code",
   "execution_count": null,
   "metadata": {},
   "outputs": [
    {
     "name": "stdout",
     "output_type": "stream",
     "text": [
      "0  Es primo\n",
      "1  Es primo\n",
      "2  Es primo\n",
      "3  Es primo\n",
      "5  Es primo\n",
      "7  Es primo\n",
      "11  Es primo\n",
      "13  Es primo\n",
      "17  Es primo\n",
      "19  Es primo\n",
      "23  Es primo\n",
      "29  Es primo\n",
      "0  Es primo\n",
      "1  Es primo\n",
      "2  Es primo\n",
      "3  Es primo\n",
      "5  Es primo\n",
      "7  Es primo\n",
      "11  Es primo\n",
      "13  Es primo\n",
      "17  Es primo\n",
      "19  Es primo\n",
      "23  Es primo\n",
      "29  Es primo\n",
      "Ciclos sin Break:  378\n",
      "Ciclos con Break:  134\n",
      "Optimizacion de un  0.3544973544973545 %\n"
     ]
    }
   ],
   "source": [
    "ciclos_sin_break = 0\n",
    "rango=30\n",
    "x=0\n",
    "primo=True\n",
    "while(x<rango):\n",
    "    for i in range(2,x):\n",
    "        ciclos_sin_break+=1\n",
    "        if(x % i == 0):\n",
    "            primo = False\n",
    "    if(primo):\n",
    "        print(str(x),\" Es primo\")\n",
    "    else:\n",
    "        primo = True\n",
    "    x+=1\n",
    "\n",
    "ciclos_con_break = 0\n",
    "rango=30\n",
    "x=0\n",
    "primo=True\n",
    "while(x<rango):\n",
    "    for i in range(2,x):\n",
    "        ciclos_con_break +=1\n",
    "        if(x % i == 0):\n",
    "            primo = False\n",
    "            break\n",
    "    if(primo):\n",
    "        print(str(x),\" Es primo\")\n",
    "    else:\n",
    "        primo = True\n",
    "    x+=1\n",
    "\n",
    "print(\"Ciclos sin Break: \",str(ciclos_sin_break))\n",
    "print(\"Ciclos con Break: \",str(ciclos_con_break))\n",
    "print(\"Optimizacion de un \",str(ciclos_con_break/ciclos_sin_break),\"%\")"
   ]
  },
  {
   "attachments": {},
   "cell_type": "markdown",
   "metadata": {},
   "source": [
    "12) Aplicando continue, armar un ciclo while que solo imprima los valores divisibles por 12, dentro del rango de números de 100 a 300"
   ]
  },
  {
   "cell_type": "code",
   "execution_count": null,
   "metadata": {},
   "outputs": [
    {
     "name": "stdout",
     "output_type": "stream",
     "text": [
      "108  es divisible por 12\n",
      "120  es divisible por 12\n",
      "132  es divisible por 12\n",
      "144  es divisible por 12\n",
      "156  es divisible por 12\n",
      "168  es divisible por 12\n",
      "180  es divisible por 12\n",
      "192  es divisible por 12\n",
      "204  es divisible por 12\n",
      "216  es divisible por 12\n",
      "228  es divisible por 12\n",
      "240  es divisible por 12\n",
      "252  es divisible por 12\n",
      "264  es divisible por 12\n",
      "276  es divisible por 12\n",
      "288  es divisible por 12\n",
      "300  es divisible por 12\n"
     ]
    }
   ],
   "source": [
    "inicio = 99\n",
    "fin = 300\n",
    "\n",
    "while(inicio<fin):\n",
    "    inicio+=1\n",
    "    if(inicio%12!=0):\n",
    "        continue\n",
    "    print(str(inicio),\" es divisible por 12\")\n",
    "    \n"
   ]
  },
  {
   "attachments": {},
   "cell_type": "markdown",
   "metadata": {},
   "source": [
    "13) Utilizar la función **input()** que permite hacer ingresos por teclado, para encontrar números primos y dar la opción al usario de buscar el siguiente"
   ]
  },
  {
   "cell_type": "code",
   "execution_count": 52,
   "metadata": {},
   "outputs": [
    {
     "name": "stdout",
     "output_type": "stream",
     "text": [
      "1  Es primo\n",
      "¿Desea encontrar el siguiente número primo?\n",
      "2  Es primo\n",
      "¿Desea encontrar el siguiente número primo?\n",
      "3  Es primo\n",
      "¿Desea encontrar el siguiente número primo?\n",
      "5  Es primo\n",
      "¿Desea encontrar el siguiente número primo?\n",
      "7  Es primo\n",
      "¿Desea encontrar el siguiente número primo?\n",
      "11  Es primo\n",
      "¿Desea encontrar el siguiente número primo?\n",
      "Se finaliza el proceso\n"
     ]
    }
   ],
   "source": [
    "x=1\n",
    "cont=1\n",
    "while(cont==1):\n",
    "    for i in range(2,x):\n",
    "        if(x % i == 0):\n",
    "            primo = False\n",
    "            break\n",
    "    if(primo):\n",
    "        print(str(x),\" Es primo\")\n",
    "        print('¿Desea encontrar el siguiente número primo?')\n",
    "        if (input() != '1'):\n",
    "            print('Se finaliza el proceso')\n",
    "            break\n",
    "    else:\n",
    "        primo = True\n",
    "    x+=1\n",
    "    "
   ]
  },
  {
   "attachments": {},
   "cell_type": "markdown",
   "metadata": {},
   "source": [
    "14) Crear un ciclo while que encuentre dentro del rango de 100 a 300 el primer número divisible por 3 y además múltiplo de 6"
   ]
  },
  {
   "cell_type": "code",
   "execution_count": 53,
   "metadata": {},
   "outputs": [
    {
     "name": "stdout",
     "output_type": "stream",
     "text": [
      "El primer nuvero divisible por 3 y multiplo de 6 es  102\n"
     ]
    }
   ],
   "source": [
    "inicio = 100\n",
    "fin = 300\n",
    "cont = True\n",
    "while(cont and inicio<fin):\n",
    "    if (inicio%3==0 and inicio%6==0):\n",
    "        print(\"El primer nuvero divisible por 3 y multiplo de 6 es \", str(inicio))\n",
    "        cont=False\n",
    "    inicio+=1\n",
    "    \n"
   ]
  }
 ],
 "metadata": {
  "interpreter": {
   "hash": "c85384e4cb51c8b72350f3a8712cc8351fdc3955e32a27f9b60c6242ab125f01"
  },
  "kernelspec": {
   "display_name": "Python 3 (ipykernel)",
   "language": "python",
   "name": "python3"
  },
  "language_info": {
   "codemirror_mode": {
    "name": "ipython",
    "version": 3
   },
   "file_extension": ".py",
   "mimetype": "text/x-python",
   "name": "python",
   "nbconvert_exporter": "python",
   "pygments_lexer": "ipython3",
   "version": "3.9.5"
  }
 },
 "nbformat": 4,
 "nbformat_minor": 4
}
