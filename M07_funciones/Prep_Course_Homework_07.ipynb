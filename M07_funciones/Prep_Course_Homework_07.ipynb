{
 "cells": [
  {
   "attachments": {},
   "cell_type": "markdown",
   "metadata": {},
   "source": [
    "## Funciones"
   ]
  },
  {
   "attachments": {},
   "cell_type": "markdown",
   "metadata": {},
   "source": [
    "1) Crear una función que reciba un número como parámetro y devuelva True si es primo y False si no lo es"
   ]
  },
  {
   "cell_type": "code",
   "execution_count": 8,
   "metadata": {},
   "outputs": [
    {
     "name": "stdout",
     "output_type": "stream",
     "text": [
      "True\n"
     ]
    }
   ],
   "source": [
    "def numeroPrimo(num):\n",
    "    primo = True\n",
    "    for i in range(2,num):\n",
    "        if(num % i == 0):\n",
    "            primo = False\n",
    "    return primo\n",
    "\n",
    "print(numeroPrimo(23))"
   ]
  },
  {
   "attachments": {},
   "cell_type": "markdown",
   "metadata": {},
   "source": [
    "2) Utilizando la función del punto 1, realizar otra función que reciba de parámetro una lista de números y devuelva sólo aquellos que son primos en otra lista"
   ]
  },
  {
   "cell_type": "code",
   "execution_count": 11,
   "metadata": {},
   "outputs": [
    {
     "name": "stdout",
     "output_type": "stream",
     "text": [
      "[1, 2, 3, 5, 7, 11, 13, 17, 19]\n"
     ]
    }
   ],
   "source": [
    "listaNumeros = [1,2,3,4,5,6,7,8,9,10,11,12,13,14,15,16,17,18,19,20]\n",
    "\n",
    "def buscarPrimos(lista):\n",
    "    listaPrimos = []\n",
    "    for i in lista:\n",
    "        if numeroPrimo(i)==True:\n",
    "            listaPrimos.append(i)\n",
    "    return listaPrimos\n",
    "\n",
    "print(buscarPrimos(listaNumeros))"
   ]
  },
  {
   "attachments": {},
   "cell_type": "markdown",
   "metadata": {},
   "source": [
    "3) Crear una función que al recibir una lista de números, devuelva el que más se repite y cuántas veces lo hace. Si hay más de un \"más repetido\", que devuelva cualquiera"
   ]
  },
  {
   "cell_type": "code",
   "execution_count": 27,
   "metadata": {},
   "outputs": [
    {
     "name": "stdout",
     "output_type": "stream",
     "text": [
      "El numero que mas se repite en la lista es el  2  el cual se repite  9  veces\n"
     ]
    }
   ],
   "source": [
    "listaNumeros2 = [1,2,3,4,5,6,7,8,9,10,10,2,8,4,5,9,6,7,2,3,5,5,4,8,8,1,6,6,1,2,2,2,2,2,2]\n",
    "\n",
    "def numMasRepetido(lista):\n",
    "    listaValores = list(set(lista)) #Eliminar valores duplicados\n",
    "    numRepeticion=[] #Lista de numero de repeticiones\n",
    "    mayorRept=0 #Indice del numero que mas se repite\n",
    "    for i in listaValores:\n",
    "        numRepeticion.append(listaNumeros2.count(i))\n",
    "\n",
    "    for i,x in enumerate(numRepeticion):\n",
    "        if x>=numRepeticion[mayorRept]:\n",
    "            mayorRept = i\n",
    "\n",
    "    return listaValores[mayorRept],numRepeticion[mayorRept]\n",
    "\n",
    "numero,n = numMasRepetido(listaNumeros2)\n",
    "print(\"El numero que mas se repite en la lista es el \",numero,\" el cual se repite \",n,\" veces\")\n"
   ]
  },
  {
   "attachments": {},
   "cell_type": "markdown",
   "metadata": {},
   "source": [
    "4) Crear una función que convierta entre grados Celsius, Farenheit y Kelvin<br>\n",
    "Fórmula 1\t: (°C × 9/5) + 32 = °F<br>\n",
    "Fórmula 2\t: °C + 273.15 = °Kelvin<br>\n",
    "Debe recibir 3 parámetros: el valor, la medida de orígen y la medida de destino"
   ]
  },
  {
   "cell_type": "code",
   "execution_count": 100,
   "metadata": {},
   "outputs": [
    {
     "name": "stdout",
     "output_type": "stream",
     "text": [
      "12 grados Farenheit en grados Celsius  =  53.6\n"
     ]
    }
   ],
   "source": [
    "def conversionGrados(valor,gradosOrigen,gradosDestino):\n",
    "    if gradosOrigen == gradosDestino:\n",
    "        resultado = valor\n",
    "    else:        \n",
    "        if gradosOrigen == \"Farenheit\":\n",
    "            if gradosDestino == \"Kelvin\":\n",
    "                resultado = (valor+459.67)*(5/9)            \n",
    "            elif gradosDestino == \"Celsius\":\n",
    "                resultado = (valor*(9/5))+32\n",
    "            else:\n",
    "                print(\"Parametro destino incorrecto\")\n",
    "                resultado = False\n",
    "        elif gradosOrigen == \"Kelvin\":\n",
    "            if gradosDestino == \"Farenheit\":\n",
    "                resultado = (valor-273.16)*(9/5)+32\n",
    "            elif gradosDestino == \"Celsius\":\n",
    "                resultado = valor-273.15\n",
    "            else:\n",
    "                print(\"Parametro destino incorrecto\")\n",
    "                resultado = False\n",
    "        elif gradosOrigen == \"Celsius\":\n",
    "            if gradosDestino == \"Kelvin\":\n",
    "                resultado = valor+273.15\n",
    "            elif gradosDestino == \"Farenheit\":\n",
    "                resultado = (valor*9/5)+32\n",
    "            else:\n",
    "                print(\"Parametro destino incorrecto\")\n",
    "                resultado = False\n",
    "        else:\n",
    "            print(\"Parametro origen incorrecto\")\n",
    "            resultado = False\n",
    "    \n",
    "    return resultado     \n",
    "\n",
    "grado = 12\n",
    "g_origen = \"Farenheit\"\n",
    "g_destino = \"Celsius\"\n",
    "print(grado,\"grados\",g_origen,\"en grados\",g_destino,\" = \",conversionGrados(grado,g_origen,g_destino))\n"
   ]
  },
  {
   "attachments": {},
   "cell_type": "markdown",
   "metadata": {},
   "source": [
    "5) Iterando una lista con los tres valores posibles de temperatura que recibe la función del punto 5, hacer un print para cada combinación de los mismos:"
   ]
  },
  {
   "cell_type": "code",
   "execution_count": 102,
   "metadata": {},
   "outputs": [
    {
     "name": "stdout",
     "output_type": "stream",
     "text": [
      "12 grados Celsius en grados Celsius  =  12\n",
      "12 grados Celsius en grados Kelvin  =  285.15\n",
      "12 grados Celsius en grados Farenheit  =  53.6\n",
      "12 grados Kelvin en grados Celsius  =  -261.15\n",
      "12 grados Kelvin en grados Kelvin  =  12\n",
      "12 grados Kelvin en grados Farenheit  =  -438.0880000000001\n",
      "12 grados Farenheit en grados Celsius  =  53.6\n",
      "12 grados Farenheit en grados Kelvin  =  262.0388888888889\n",
      "12 grados Farenheit en grados Farenheit  =  12\n"
     ]
    }
   ],
   "source": [
    "todos_Grados = [\"Celsius\", \"Kelvin\", \"Farenheit\"]\n",
    "grado = 12\n",
    "for x in range(0,3):  \n",
    "    for y in range(0,3):\n",
    "        print(grado,\"grados\",todos_Grados[x],\"en grados\",todos_Grados[y],\" = \",conversionGrados(grado,todos_Grados[x],todos_Grados[y]))\n",
    "    "
   ]
  },
  {
   "attachments": {},
   "cell_type": "markdown",
   "metadata": {},
   "source": [
    "6) Armar una función que devuelva el factorial de un número. Tener en cuenta que el usuario puede equivocarse y enviar de parámetro un número no entero o negativo"
   ]
  },
  {
   "cell_type": "code",
   "execution_count": 126,
   "metadata": {},
   "outputs": [
    {
     "name": "stdout",
     "output_type": "stream",
     "text": [
      "2\n",
      "6\n",
      "24\n",
      "24\n",
      "El numero debe ser positivo\n",
      "El numero debe ser entero\n",
      "El numero debe ser entero\n"
     ]
    }
   ],
   "source": [
    "def factorial(numero):\n",
    "    if type(numero) != int:\n",
    "        return \"El numero debe ser entero\"\n",
    "    elif numero<0 :\n",
    "        return \"El numero debe ser positivo\"\n",
    "    elif numero <= 1:\n",
    "        return 1\n",
    "    \n",
    "    numero = numero * (factorial(numero-1))\n",
    "    print(numero)\n",
    "\n",
    "    return numero\n",
    "\n",
    "\n",
    "print(factorial(4))\n",
    "print(factorial(-2))\n",
    "print(factorial(1.23))\n",
    "print(factorial(\"6\"))\n"
   ]
  }
 ],
 "metadata": {
  "interpreter": {
   "hash": "c85384e4cb51c8b72350f3a8712cc8351fdc3955e32a27f9b60c6242ab125f01"
  },
  "kernelspec": {
   "display_name": "Python 3 (ipykernel)",
   "language": "python",
   "name": "python3"
  },
  "language_info": {
   "codemirror_mode": {
    "name": "ipython",
    "version": 3
   },
   "file_extension": ".py",
   "mimetype": "text/x-python",
   "name": "python",
   "nbconvert_exporter": "python",
   "pygments_lexer": "ipython3",
   "version": "3.9.7"
  }
 },
 "nbformat": 4,
 "nbformat_minor": 4
}
